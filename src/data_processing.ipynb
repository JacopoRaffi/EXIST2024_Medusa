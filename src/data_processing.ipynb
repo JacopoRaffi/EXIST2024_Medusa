{
 "cells": [
  {
   "cell_type": "markdown",
   "metadata": {},
   "source": [
    "# Data Processing\n",
    "In this notebook we load the datasets provided and we output a version ready to work with splitted in training and test set"
   ]
  },
  {
   "cell_type": "code",
   "execution_count": 1,
   "metadata": {},
   "outputs": [],
   "source": [
    "import pandas as pd\n",
    "import pathlib\n",
    "from algorithms import *\n",
    "\n",
    "DATASET_DIR = pathlib.Path('../data')\n",
    "pd.options.plotting.backend = \"plotly\""
   ]
  },
  {
   "cell_type": "markdown",
   "metadata": {},
   "source": [
    "## Dataset Loading\n",
    "In this section we load the dataset which is divided into training and dev set. We also load the gold labels that are provided in separate files"
   ]
  },
  {
   "cell_type": "code",
   "execution_count": 2,
   "metadata": {},
   "outputs": [],
   "source": [
    "tr_df = pd.read_json(DATASET_DIR / 'training/EXIST2024_training.json').T.reset_index(drop=True)\n",
    "dev_df = pd.read_json(DATASET_DIR / 'dev/EXIST2024_dev.json').T.reset_index(drop=True)\n",
    "tr_df = tr_df.rename({'id_EXIST':'id'}, axis=1)\n",
    "dev_df = dev_df.rename({'id_EXIST':'id'}, axis=1)\n",
    "tr_df['id'] = tr_df['id'].astype('Int64')\n",
    "dev_df['id'] = dev_df['id'].astype('Int64')\n",
    "\n",
    "df = pd.concat([dev_df, tr_df], ignore_index=True, sort=False)\n",
    "\n",
    "tr_gold_hard = pd.read_json(DATASET_DIR / 'evaluation/golds/EXIST2024_training_task3_gold_hard.json')\n",
    "tr_gold_soft = pd.read_json(DATASET_DIR / 'evaluation/golds/EXIST2024_training_task3_gold_soft.json')\n",
    "dev_gold_hard = pd.read_json(DATASET_DIR / 'evaluation/golds/EXIST2024_dev_task3_gold_hard.json')\n",
    "dev_gold_soft = pd.read_json(DATASET_DIR / 'evaluation/golds/EXIST2024_dev_task3_gold_soft.json')\n",
    "\n",
    "df_gold_hard = pd.concat([tr_gold_hard, dev_gold_hard], ignore_index=True, sort=False)\n",
    "df_gold_soft = pd.concat([tr_gold_soft, dev_gold_soft], ignore_index=True, sort=False)\n",
    "\n",
    "df_gold_hard = df_gold_hard.rename({'value':'gold_hard'}, axis=1).drop('test_case', axis=1)\n",
    "df_gold_soft = df_gold_soft.rename({'value':'gold_soft'}, axis=1).drop('test_case', axis=1)"
   ]
  },
  {
   "cell_type": "markdown",
   "metadata": {},
   "source": [
    "## Merge and cleaning\n",
    "We merge the dataset, for each sample we concatenate the hard and soft gold labels. We then drop the irrelevant columns"
   ]
  },
  {
   "cell_type": "code",
   "execution_count": 3,
   "metadata": {},
   "outputs": [
    {
     "data": {
      "text/plain": [
       "array([6], dtype=object)"
      ]
     },
     "execution_count": 3,
     "metadata": {},
     "output_type": "execute_result"
    }
   ],
   "source": [
    "df = df.merge(df_gold_hard, how='left', on='id')\n",
    "df = df.merge(df_gold_soft, how='left', on='id')\n",
    "\n",
    "df['number_annotators'].unique()"
   ]
  },
  {
   "cell_type": "markdown",
   "metadata": {},
   "source": [
    "Removal of superfluous labels"
   ]
  },
  {
   "cell_type": "code",
   "execution_count": 4,
   "metadata": {},
   "outputs": [
    {
     "data": {
      "text/html": [
       "<div>\n",
       "<style scoped>\n",
       "    .dataframe tbody tr th:only-of-type {\n",
       "        vertical-align: middle;\n",
       "    }\n",
       "\n",
       "    .dataframe tbody tr th {\n",
       "        vertical-align: top;\n",
       "    }\n",
       "\n",
       "    .dataframe thead th {\n",
       "        text-align: right;\n",
       "    }\n",
       "</style>\n",
       "<table border=\"1\" class=\"dataframe\">\n",
       "  <thead>\n",
       "    <tr style=\"text-align: right;\">\n",
       "      <th></th>\n",
       "      <th>id</th>\n",
       "      <th>lang</th>\n",
       "      <th>tweet</th>\n",
       "      <th>split</th>\n",
       "      <th>gold_hard</th>\n",
       "      <th>gold_soft</th>\n",
       "    </tr>\n",
       "  </thead>\n",
       "  <tbody>\n",
       "    <tr>\n",
       "      <th>3488</th>\n",
       "      <td>102451</td>\n",
       "      <td>es</td>\n",
       "      <td>@joseantoniokast Más que misoginia, comentario...</td>\n",
       "      <td>TRAIN_ES</td>\n",
       "      <td>NaN</td>\n",
       "      <td>{'NO': 0.5, 'IDEOLOGICAL-INEQUALITY': 0.333333...</td>\n",
       "    </tr>\n",
       "  </tbody>\n",
       "</table>\n",
       "</div>"
      ],
      "text/plain": [
       "          id lang                                              tweet  \\\n",
       "3488  102451   es  @joseantoniokast Más que misoginia, comentario...   \n",
       "\n",
       "         split gold_hard                                          gold_soft  \n",
       "3488  TRAIN_ES       NaN  {'NO': 0.5, 'IDEOLOGICAL-INEQUALITY': 0.333333...  "
      ]
     },
     "execution_count": 4,
     "metadata": {},
     "output_type": "execute_result"
    }
   ],
   "source": [
    "df = df.drop(['labels_task2', 'labels_task1', 'labels_task3', 'annotators', 'number_annotators', 'gender_annotators', 'age_annotators', 'ethnicities_annotators', 'study_levels_annotators', 'countries_annotators'], axis=1)\n",
    "df.sample()"
   ]
  },
  {
   "cell_type": "code",
   "execution_count": 5,
   "metadata": {},
   "outputs": [
    {
     "data": {
      "text/plain": [
       "array([{'NO': 0.5, 'MISOGYNY-NON-SEXUAL-VIOLENCE': 0.5, 'SEXUAL-VIOLENCE': 0.16666666666666602, 'IDEOLOGICAL-INEQUALITY': 0.0, 'STEREOTYPING-DOMINANCE': 0.0, 'OBJECTIFICATION': 0.0},\n",
       "       {'IDEOLOGICAL-INEQUALITY': 0.33333333333333304, 'STEREOTYPING-DOMINANCE': 0.33333333333333304, 'MISOGYNY-NON-SEXUAL-VIOLENCE': 0.5, 'NO': 0.16666666666666602, 'OBJECTIFICATION': 0.16666666666666602, 'SEXUAL-VIOLENCE': 0.0},\n",
       "       {'NO': 1.0, 'IDEOLOGICAL-INEQUALITY': 0.0, 'STEREOTYPING-DOMINANCE': 0.0, 'MISOGYNY-NON-SEXUAL-VIOLENCE': 0.0, 'SEXUAL-VIOLENCE': 0.0, 'OBJECTIFICATION': 0.0},\n",
       "       ...,\n",
       "       {'NO': 0.33333333333333304, 'OBJECTIFICATION': 0.16666666666666602, 'SEXUAL-VIOLENCE': 0.33333333333333304, 'STEREOTYPING-DOMINANCE': 0.16666666666666602, 'IDEOLOGICAL-INEQUALITY': 0.0, 'MISOGYNY-NON-SEXUAL-VIOLENCE': 0.0},\n",
       "       {'OBJECTIFICATION': 0.6666666666666661, 'SEXUAL-VIOLENCE': 0.5, 'MISOGYNY-NON-SEXUAL-VIOLENCE': 0.5, 'IDEOLOGICAL-INEQUALITY': 0.16666666666666602, 'STEREOTYPING-DOMINANCE': 0.33333333333333304, 'NO': 0.0},\n",
       "       {'STEREOTYPING-DOMINANCE': 0.33333333333333304, 'OBJECTIFICATION': 0.5, 'SEXUAL-VIOLENCE': 0.16666666666666602, 'NO': 0.16666666666666602, 'IDEOLOGICAL-INEQUALITY': 0.0, 'MISOGYNY-NON-SEXUAL-VIOLENCE': 0.0}],\n",
       "      dtype=object)"
      ]
     },
     "execution_count": 5,
     "metadata": {},
     "output_type": "execute_result"
    }
   ],
   "source": [
    "df['gold_soft'].values"
   ]
  },
  {
   "cell_type": "code",
   "execution_count": 6,
   "metadata": {},
   "outputs": [
    {
     "data": {
      "text/html": [
       "<div>\n",
       "<style scoped>\n",
       "    .dataframe tbody tr th:only-of-type {\n",
       "        vertical-align: middle;\n",
       "    }\n",
       "\n",
       "    .dataframe tbody tr th {\n",
       "        vertical-align: top;\n",
       "    }\n",
       "\n",
       "    .dataframe thead th {\n",
       "        text-align: right;\n",
       "    }\n",
       "</style>\n",
       "<table border=\"1\" class=\"dataframe\">\n",
       "  <thead>\n",
       "    <tr style=\"text-align: right;\">\n",
       "      <th></th>\n",
       "      <th>NO</th>\n",
       "      <th>MISOGYNY-NON-SEXUAL-VIOLENCE</th>\n",
       "      <th>SEXUAL-VIOLENCE</th>\n",
       "      <th>IDEOLOGICAL-INEQUALITY</th>\n",
       "      <th>STEREOTYPING-DOMINANCE</th>\n",
       "      <th>OBJECTIFICATION</th>\n",
       "    </tr>\n",
       "  </thead>\n",
       "  <tbody>\n",
       "    <tr>\n",
       "      <th>6005</th>\n",
       "      <td>0.5</td>\n",
       "      <td>0.166667</td>\n",
       "      <td>0.333333</td>\n",
       "      <td>0.166667</td>\n",
       "      <td>0.0</td>\n",
       "      <td>0.0</td>\n",
       "    </tr>\n",
       "  </tbody>\n",
       "</table>\n",
       "</div>"
      ],
      "text/plain": [
       "       NO  MISOGYNY-NON-SEXUAL-VIOLENCE  SEXUAL-VIOLENCE  \\\n",
       "6005  0.5                      0.166667         0.333333   \n",
       "\n",
       "      IDEOLOGICAL-INEQUALITY  STEREOTYPING-DOMINANCE  OBJECTIFICATION  \n",
       "6005                0.166667                     0.0              0.0  "
      ]
     },
     "execution_count": 6,
     "metadata": {},
     "output_type": "execute_result"
    }
   ],
   "source": [
    "# Creating a dataframe with one column for each key in the gold_soft list\n",
    "sum = None\n",
    "for el in df['gold_soft'].values:\n",
    "    if sum is None:\n",
    "        sum = {}\n",
    "        for key in el:\n",
    "            sum[key] = [el[key]]\n",
    "    else:\n",
    "        for key in el:\n",
    "            sum[key].append(el[key])\n",
    "new_col = pd.DataFrame(sum)\n",
    "new_col.sample()"
   ]
  },
  {
   "cell_type": "code",
   "execution_count": 7,
   "metadata": {},
   "outputs": [
    {
     "data": {
      "text/html": [
       "<div>\n",
       "<style scoped>\n",
       "    .dataframe tbody tr th:only-of-type {\n",
       "        vertical-align: middle;\n",
       "    }\n",
       "\n",
       "    .dataframe tbody tr th {\n",
       "        vertical-align: top;\n",
       "    }\n",
       "\n",
       "    .dataframe thead th {\n",
       "        text-align: right;\n",
       "    }\n",
       "</style>\n",
       "<table border=\"1\" class=\"dataframe\">\n",
       "  <thead>\n",
       "    <tr style=\"text-align: right;\">\n",
       "      <th></th>\n",
       "      <th>id</th>\n",
       "      <th>lang</th>\n",
       "      <th>tweet</th>\n",
       "      <th>split</th>\n",
       "      <th>gold_hard</th>\n",
       "      <th>gold_soft</th>\n",
       "      <th>NO</th>\n",
       "      <th>MISOGYNY-NON-SEXUAL-VIOLENCE</th>\n",
       "      <th>SEXUAL-VIOLENCE</th>\n",
       "      <th>IDEOLOGICAL-INEQUALITY</th>\n",
       "      <th>STEREOTYPING-DOMINANCE</th>\n",
       "      <th>OBJECTIFICATION</th>\n",
       "    </tr>\n",
       "  </thead>\n",
       "  <tbody>\n",
       "    <tr>\n",
       "      <th>2177</th>\n",
       "      <td>101140</td>\n",
       "      <td>es</td>\n",
       "      <td>#SCJN - TESIS - Derecho a la información. No p...</td>\n",
       "      <td>TRAIN_ES</td>\n",
       "      <td>[NO]</td>\n",
       "      <td>{'NO': 0.833333333333333, 'SEXUAL-VIOLENCE': 0...</td>\n",
       "      <td>0.833333</td>\n",
       "      <td>0.0</td>\n",
       "      <td>0.166667</td>\n",
       "      <td>0.0</td>\n",
       "      <td>0.0</td>\n",
       "      <td>0.0</td>\n",
       "    </tr>\n",
       "  </tbody>\n",
       "</table>\n",
       "</div>"
      ],
      "text/plain": [
       "          id lang                                              tweet  \\\n",
       "2177  101140   es  #SCJN - TESIS - Derecho a la información. No p...   \n",
       "\n",
       "         split gold_hard                                          gold_soft  \\\n",
       "2177  TRAIN_ES      [NO]  {'NO': 0.833333333333333, 'SEXUAL-VIOLENCE': 0...   \n",
       "\n",
       "            NO  MISOGYNY-NON-SEXUAL-VIOLENCE  SEXUAL-VIOLENCE  \\\n",
       "2177  0.833333                           0.0         0.166667   \n",
       "\n",
       "      IDEOLOGICAL-INEQUALITY  STEREOTYPING-DOMINANCE  OBJECTIFICATION  \n",
       "2177                     0.0                     0.0              0.0  "
      ]
     },
     "execution_count": 7,
     "metadata": {},
     "output_type": "execute_result"
    }
   ],
   "source": [
    "# Concatenating the new columns to the original dataframe\n",
    "df = pd.concat([df, new_col], axis=1)\n",
    "df.sample()"
   ]
  },
  {
   "cell_type": "code",
   "execution_count": 8,
   "metadata": {},
   "outputs": [
    {
     "data": {
      "text/html": [
       "<div>\n",
       "<style scoped>\n",
       "    .dataframe tbody tr th:only-of-type {\n",
       "        vertical-align: middle;\n",
       "    }\n",
       "\n",
       "    .dataframe tbody tr th {\n",
       "        vertical-align: top;\n",
       "    }\n",
       "\n",
       "    .dataframe thead th {\n",
       "        text-align: right;\n",
       "    }\n",
       "</style>\n",
       "<table border=\"1\" class=\"dataframe\">\n",
       "  <thead>\n",
       "    <tr style=\"text-align: right;\">\n",
       "      <th></th>\n",
       "      <th>id</th>\n",
       "      <th>language</th>\n",
       "      <th>tweet</th>\n",
       "      <th>split</th>\n",
       "      <th>hard_label</th>\n",
       "      <th>NO</th>\n",
       "      <th>MISOGYNY-NON-SEXUAL-VIOLENCE</th>\n",
       "      <th>SEXUAL-VIOLENCE</th>\n",
       "      <th>IDEOLOGICAL-INEQUALITY</th>\n",
       "      <th>STEREOTYPING-DOMINANCE</th>\n",
       "      <th>OBJECTIFICATION</th>\n",
       "    </tr>\n",
       "  </thead>\n",
       "  <tbody>\n",
       "    <tr>\n",
       "      <th>789</th>\n",
       "      <td>400241</td>\n",
       "      <td>en</td>\n",
       "      <td>Ladies,don't let anyone body shame you in any ...</td>\n",
       "      <td>DEV_EN</td>\n",
       "      <td>[NO]</td>\n",
       "      <td>0.666667</td>\n",
       "      <td>0.0</td>\n",
       "      <td>0.0</td>\n",
       "      <td>0.0</td>\n",
       "      <td>0.0</td>\n",
       "      <td>0.333333</td>\n",
       "    </tr>\n",
       "  </tbody>\n",
       "</table>\n",
       "</div>"
      ],
      "text/plain": [
       "         id language                                              tweet  \\\n",
       "789  400241       en  Ladies,don't let anyone body shame you in any ...   \n",
       "\n",
       "      split hard_label        NO  MISOGYNY-NON-SEXUAL-VIOLENCE  \\\n",
       "789  DEV_EN       [NO]  0.666667                           0.0   \n",
       "\n",
       "     SEXUAL-VIOLENCE  IDEOLOGICAL-INEQUALITY  STEREOTYPING-DOMINANCE  \\\n",
       "789              0.0                     0.0                     0.0   \n",
       "\n",
       "     OBJECTIFICATION  \n",
       "789         0.333333  "
      ]
     },
     "execution_count": 8,
     "metadata": {},
     "output_type": "execute_result"
    }
   ],
   "source": [
    "df = df.drop('gold_soft', axis = 1)\n",
    "df = df.rename({'gold_hard':'hard_label', 'lang':'language'}, axis=1)\n",
    "df.sample()"
   ]
  },
  {
   "cell_type": "markdown",
   "metadata": {},
   "source": [
    "## Training test splitting\n",
    "We save the obtained dataset in the file merged_processed_dataset.csv.\n",
    "Then we perform the train/test splitting using 80% for training set and 20% for the test set"
   ]
  },
  {
   "cell_type": "code",
   "execution_count": 9,
   "metadata": {},
   "outputs": [],
   "source": [
    "df.to_csv(DATASET_DIR / 'merged_dataset.csv', sep=';', encoding='utf-8', index=False)"
   ]
  },
  {
   "cell_type": "code",
   "execution_count": 10,
   "metadata": {},
   "outputs": [],
   "source": [
    "from sklearn.model_selection import train_test_split\n",
    "\n",
    "train, test = train_test_split(df, test_size=0.2)"
   ]
  },
  {
   "cell_type": "code",
   "execution_count": 11,
   "metadata": {},
   "outputs": [],
   "source": [
    "train.to_csv(DATASET_DIR / 'training_split.csv', sep=';', encoding='utf-8', index=False)\n",
    "test.to_csv(DATASET_DIR / 'test_split.csv', sep=';', encoding='utf-8', index=False) "
   ]
  },
  {
   "cell_type": "markdown",
   "metadata": {},
   "source": [
    "## Pre-Processing\n",
    "Processing the tweets and save the new data"
   ]
  },
  {
   "cell_type": "code",
   "execution_count": 12,
   "metadata": {},
   "outputs": [],
   "source": [
    "test = pd.read_csv(DATASET_DIR / 'test_split.csv', sep=';', encoding='utf-8')\n",
    "train = pd.read_csv(DATASET_DIR / 'training_split.csv', sep=';', encoding='utf-8')\n",
    "challenge_test = pd.read_csv(DATASET_DIR / 'real_test.csv', sep=';', encoding='utf-8')\n",
    "merged = pd.read_csv(DATASET_DIR / 'merged_dataset.csv', sep=';', encoding='utf-8')"
   ]
  },
  {
   "cell_type": "markdown",
   "metadata": {},
   "source": [
    "Applying the process_tweet function to each dataset"
   ]
  },
  {
   "cell_type": "code",
   "execution_count": 13,
   "metadata": {},
   "outputs": [],
   "source": [
    "train['processed_tweet'] = train['tweet'].apply(process_tweet)\n",
    "test['processed_tweet'] = test['tweet'].apply(process_tweet)\n",
    "challenge_test['processed_tweet'] = challenge_test['tweet'].apply(process_tweet)\n",
    "merged['processed_tweet'] = merged['tweet'].apply(process_tweet)"
   ]
  },
  {
   "cell_type": "markdown",
   "metadata": {},
   "source": [
    "Saving the datasets to csv files"
   ]
  },
  {
   "cell_type": "code",
   "execution_count": 14,
   "metadata": {},
   "outputs": [],
   "source": [
    "train.to_csv(DATASET_DIR / 'training_split_proc.csv', sep=';', encoding='utf-8', index=False)\n",
    "test.to_csv(DATASET_DIR / 'test_split_proc.csv', sep=';', encoding='utf-8', index=False) \n",
    "challenge_test.to_csv(DATASET_DIR / 'real_test_proc.csv', sep=';', encoding='utf-8', index=False) \n",
    "merged.to_csv(DATASET_DIR / 'merged_dataset_proc.csv', sep=';', encoding='utf-8', index=False) "
   ]
  }
 ],
 "metadata": {
  "kernelspec": {
   "display_name": "Python 3",
   "language": "python",
   "name": "python3"
  },
  "language_info": {
   "codemirror_mode": {
    "name": "ipython",
    "version": 3
   },
   "file_extension": ".py",
   "mimetype": "text/x-python",
   "name": "python",
   "nbconvert_exporter": "python",
   "pygments_lexer": "ipython3",
   "version": "3.12.2"
  }
 },
 "nbformat": 4,
 "nbformat_minor": 2
}
